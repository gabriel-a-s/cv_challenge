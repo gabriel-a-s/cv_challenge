{
 "cells": [
  {
   "cell_type": "code",
   "execution_count": 1,
   "metadata": {},
   "outputs": [
    {
     "name": "stdout",
     "output_type": "stream",
     "text": [
      "Choose a number between 1 and 10000: 3\n"
     ]
    }
   ],
   "source": [
    "looping=True\n",
    "while looping==True:\n",
    "    n=input(\"Choose a number between 1 and 10000: \")\n",
    "    try:\n",
    "        while int(n)<1 or int(n)>10000:\n",
    "            n=input(\"Choose a number between 1 and 10000: \")\n",
    "        looping=False\n",
    "    except:\n",
    "        looping=True\n",
    "        print(\"You should digit an integer value. Please, run the cell again!\")\n",
    "n=int(n)"
   ]
  },
  {
   "cell_type": "markdown",
   "metadata": {},
   "source": [
    "### INPUTS"
   ]
  },
  {
   "cell_type": "markdown",
   "metadata": {},
   "source": [
    "After choosing the number of test cases, the coordenates of the stars were chosen. The threatment of exceptions was done based on the challenge conditions.  "
   ]
  },
  {
   "cell_type": "code",
   "execution_count": 2,
   "metadata": {},
   "outputs": [],
   "source": [
    "import pandas as pd"
   ]
  },
  {
   "cell_type": "code",
   "execution_count": 3,
   "metadata": {},
   "outputs": [],
   "source": [
    "import numpy as np"
   ]
  },
  {
   "cell_type": "code",
   "execution_count": 5,
   "metadata": {},
   "outputs": [
    {
     "name": "stdout",
     "output_type": "stream",
     "text": [
      "Please, choose the coordenates of the first star at the first moment:\n",
      "Choose a number between -1000.0 and +1000.0 to be the X-coordenate of the first star at the first moment: 12.00\n",
      "Choose a number between -1000.0 and +1000.0 to be the Y-coordenate of the first star at the first moment: 2.00\n",
      "Please, choose the coordenates of the second star at the first moment:\n",
      "Choose a number between -1000.0 and +1000.0 to be the X-coordenate of the second star at the first moment: 5.00\n",
      "Choose a number between -1000.0 and +1000.0 to be the Y-coordenate of the second star at the first moment: 6.00\n",
      "Please, choose the coordenates of the first star at the second moment:\n",
      "Choose a number between -1000.0 and +1000.0 to be the X-coordenate of the first star at the second moment: 10.00\n",
      "Choose a number between -1000.0 and +1000.0 to be the Y-coordenate of the first star at the second moment: 8.00\n",
      "Please, choose the coordenates of the second star at the second moment:\n",
      "Choose a number between -1000.0 and +1000.0 to be the X-coordenate of the second star at the second moment: 2.00\n",
      "Choose a number between -1000.0 and +1000.0 to be the Y-coordenate of the second star at the second moment: 7.00\n"
     ]
    },
    {
     "name": "stderr",
     "output_type": "stream",
     "text": [
      "C:\\Anaconda\\lib\\site-packages\\pandas\\core\\frame.py:6692: FutureWarning: Sorting because non-concatenation axis is not aligned. A future version\n",
      "of pandas will change to not sort by default.\n",
      "\n",
      "To accept the future behavior, pass 'sort=False'.\n",
      "\n",
      "To retain the current behavior and silence the warning, pass 'sort=True'.\n",
      "\n",
      "  sort=sort)\n"
     ]
    },
    {
     "name": "stdout",
     "output_type": "stream",
     "text": [
      "Coordenates: \n",
      " \n",
      "First star at the first moment:  [12.0, 2.0]\n",
      "Second star at the first moment:  [5.0, 6.0]\n",
      "First star at the second moment:  [10.0, 8.0]\n",
      "Second star at the second moment:  [2.0, 7.0]\n",
      "Please, choose the coordenates of the first star at the first moment:\n",
      "Choose a number between -1000.0 and +1000.0 to be the X-coordenate of the first star at the first moment: 0.50\n",
      "Choose a number between -1000.0 and +1000.0 to be the Y-coordenate of the first star at the first moment: -0.50\n",
      "Please, choose the coordenates of the second star at the first moment:\n",
      "Choose a number between -1000.0 and +1000.0 to be the X-coordenate of the second star at the first moment: -1.00\n",
      "Choose a number between -1000.0 and +1000.0 to be the Y-coordenate of the second star at the first moment: 0.00\n",
      "Please, choose the coordenates of the first star at the second moment:\n",
      "Choose a number between -1000.0 and +1000.0 to be the X-coordenate of the first star at the second moment: -0.50\n",
      "Choose a number between -1000.0 and +1000.0 to be the Y-coordenate of the first star at the second moment: -0.50\n",
      "Please, choose the coordenates of the second star at the second moment:\n",
      "Choose a number between -1000.0 and +1000.0 to be the X-coordenate of the second star at the second moment: 0.00\n",
      "Choose a number between -1000.0 and +1000.0 to be the Y-coordenate of the second star at the second moment: 1.00\n",
      "Coordenates: \n",
      " \n",
      "First star at the first moment:  [0.5, -0.5]\n",
      "Second star at the first moment:  [-1.0, 0.0]\n",
      "First star at the second moment:  [-0.5, -0.5]\n",
      "Second star at the second moment:  [0.0, 1.0]\n",
      "Please, choose the coordenates of the first star at the first moment:\n",
      "Choose a number between -1000.0 and +1000.0 to be the X-coordenate of the first star at the first moment: 0.50\n",
      "Choose a number between -1000.0 and +1000.0 to be the Y-coordenate of the first star at the first moment: 6.50\n",
      "Please, choose the coordenates of the second star at the first moment:\n",
      "Choose a number between -1000.0 and +1000.0 to be the X-coordenate of the second star at the first moment: -10.50\n",
      "Choose a number between -1000.0 and +1000.0 to be the Y-coordenate of the second star at the first moment: -3.50\n",
      "Please, choose the coordenates of the first star at the second moment:\n",
      "Choose a number between -1000.0 and +1000.0 to be the X-coordenate of the first star at the second moment: -1.50\n",
      "Choose a number between -1000.0 and +1000.0 to be the Y-coordenate of the first star at the second moment: -6.50\n",
      "Please, choose the coordenates of the second star at the second moment:\n",
      "Choose a number between -1000.0 and +1000.0 to be the X-coordenate of the second star at the second moment: -5.50\n",
      "Choose a number between -1000.0 and +1000.0 to be the Y-coordenate of the second star at the second moment: -8.50\n",
      "Coordenates: \n",
      " \n",
      "First star at the first moment:  [0.5, 6.5]\n",
      "Second star at the first moment:  [-10.5, -3.5]\n",
      "First star at the second moment:  [-1.5, -6.5]\n",
      "Second star at the second moment:  [-5.5, -8.5]\n"
     ]
    }
   ],
   "source": [
    "df_inputs=pd.DataFrame()\n",
    "df_inputs['Test_Case']=[]\n",
    "df_inputs['Points']=[]\n",
    "df_inputs['X_coordenates']=[]\n",
    "df_inputs['Y_coordenates']=[]\n",
    "for i in range(n):\n",
    "    loop_total=True\n",
    "    while loop_total==True:\n",
    "        print(\"Please, choose the coordenates of the first star at the first moment:\")\n",
    "        looping=True\n",
    "        while looping==True:\n",
    "            try:\n",
    "                x1_1 = float(input(\"Choose a number between -1000.0 and +1000.0 to be the X-coordenate of the first star at the first moment: \"))\n",
    "                while x1_1< -1000.00 or x1_1 >1000.00:\n",
    "                    x1_1 = float(input(\"Choose a number between -1000.0 and +1000.0 to be the X-coordenate of the first star at the first moment: \"))\n",
    "                string_number = (\"{0:.2f}\".format(x1_1))\n",
    "                x1_1 = float(string_number)\n",
    "                looping = False\n",
    "            except:\n",
    "                looping=True\n",
    "                print(\"You should digit a float value with 2 decimal places. Please, run the cell again!\")\n",
    "    \n",
    "        looping=True\n",
    "        while looping==True:\n",
    "            try:\n",
    "                y1_1 = float(input(\"Choose a number between -1000.0 and +1000.0 to be the Y-coordenate of the first star at the first moment: \"))\n",
    "                while y1_1< -1000.00 or y1_1> 1000.00:\n",
    "                    y1_1 = float(input(\"Choose a number between -1000.0 and +1000.0 to be the Y-coordenate of the first star at the first moment: \"))\n",
    "                string_number = (\"{0:.2f}\".format(y1_1))\n",
    "                y1_1 = float(string_number)\n",
    "                looping = False\n",
    "            except:\n",
    "                looping=True\n",
    "                print(\"You should digit a float value with 2 decimal places. Please, run the cell again!\")\n",
    "    \n",
    "        print(\"Please, choose the coordenates of the second star at the first moment:\")\n",
    "        looping=True\n",
    "        while looping==True:\n",
    "            try:\n",
    "                x2_1 = float(input(\"Choose a number between -1000.0 and +1000.0 to be the X-coordenate of the second star at the first moment: \"))\n",
    "                while x2_1< -1000.00 or x2_1> 1000.00:\n",
    "                    x2_1 = float(input(\"Choose a number between -1000.0 and +1000.0 to be the X-coordenate of the second star at the first moment: \"))\n",
    "                string_number = (\"{0:.2f}\".format(x2_1))\n",
    "                x2_1 = float(string_number)\n",
    "                looping = False\n",
    "            except:\n",
    "                looping=True\n",
    "                print(\"You should digit a float value with 2 decimal places. Please, run the cell again!\")\n",
    "    \n",
    "        looping=True\n",
    "        while looping==True:\n",
    "            try:\n",
    "                y2_1 = float(input(\"Choose a number between -1000.0 and +1000.0 to be the Y-coordenate of the second star at the first moment: \"))\n",
    "                while y2_1< -1000.00 or y2_1> 1000.00:\n",
    "                    y2_1 = float(input(\"Choose a number between -1000.0 and +1000.0 to be the Y-coordenate of the second star at the first moment: \"))\n",
    "                string_number = (\"{0:.2f}\".format(y2_1))\n",
    "                y2_1 = float(string_number)\n",
    "                looping = False\n",
    "            except:\n",
    "                looping=True\n",
    "                print(\"You should digit a float value with 2 decimal places. Please, run the cell again!\")\n",
    "    \n",
    "        print(\"Please, choose the coordenates of the first star at the second moment:\")\n",
    "        looping=True\n",
    "        while looping==True:\n",
    "            try:\n",
    "                x1_2 = float(input(\"Choose a number between -1000.0 and +1000.0 to be the X-coordenate of the first star at the second moment: \"))\n",
    "                while x1_2< -1000.00 or x1_2> 1000.00:\n",
    "                    x1_2 = float(input(\"Choose a number between -1000.0 and +1000.0 to be the X-coordenate of the first star at the second moment: \"))\n",
    "                string_number = (\"{0:.2f}\".format(x1_2))\n",
    "                x1_2 = float(string_number)\n",
    "                looping = False\n",
    "            except:\n",
    "                looping=True\n",
    "                print(\"You should digit a float value with 2 decimal places. Please, run the cell again!\")\n",
    "    \n",
    "        looping=True\n",
    "        while looping==True:\n",
    "            try:\n",
    "                y1_2 = float(input(\"Choose a number between -1000.0 and +1000.0 to be the Y-coordenate of the first star at the second moment: \"))\n",
    "                while y1_2< -1000.00 or y1_2> 1000.00:\n",
    "                    y1_2 = float(input(\"Choose a number between -1000.0 and +1000.0 to be the Y-coordenate of the first star at the second moment: \"))\n",
    "                string_number = (\"{0:.2f}\".format(y1_2))\n",
    "                y1_2 = float(string_number)\n",
    "                looping = False\n",
    "            except:\n",
    "                looping=True\n",
    "                print(\"You should digit a float value with 2 decimal places. Please, run the cell again!\")\n",
    "    \n",
    "        print(\"Please, choose the coordenates of the second star at the second moment:\")\n",
    "        looping=True\n",
    "        while looping==True:\n",
    "            try:\n",
    "                x2_2 = float(input(\"Choose a number between -1000.0 and +1000.0 to be the X-coordenate of the second star at the second moment: \"))\n",
    "                while x2_2< -1000.00 or x2_2> 1000.00:\n",
    "                    x2_2 = float(input(\"Choose a number between -1000.0 and +1000.0 to be the X-coordenate of the second star at the second moment: \"))\n",
    "                string_number = (\"{0:.2f}\".format(x2_2))\n",
    "                x2_2 = float(string_number)\n",
    "                looping = False\n",
    "            except:\n",
    "                looping=True\n",
    "                print(\"You should digit a float value with 2 decimal places. Please, run the cell again!\")\n",
    "    \n",
    "        looping=True\n",
    "        while looping==True:\n",
    "            try:\n",
    "                y2_2 = float(input(\"Choose a number between -1000.0 and +1000.0 to be the Y-coordenate of the second star at the second moment: \"))\n",
    "                while y2_2< -1000.00 or y2_2> 1000.00:\n",
    "                    y2_2 = float(input(\"Choose a number between -1000.0 and +1000.0 to be the Y-coordenate of the second star at the second moment: \"))\n",
    "                string_number = (\"{0:.2f}\".format(y2_2))\n",
    "                y2_2 = float(string_number)\n",
    "                looping = False\n",
    "            except:\n",
    "                looping=True\n",
    "                print(\"You should digit a float value with 2 decimal places. Please, run the cell again!\")\n",
    "            \n",
    "        print(\"Coordenates: \")\n",
    "        print(\" \")\n",
    "        print(\"First star at the first moment: \",[x1_1,y1_1])\n",
    "        print(\"Second star at the first moment: \",[x2_1,y2_1])\n",
    "        print(\"First star at the second moment: \",[x1_2,y1_2])\n",
    "        print(\"Second star at the second moment: \",[x2_2,y2_2])\n",
    "       \n",
    "        if [x1_1,y1_1]==[x1_2,y1_2] or [x2_1,y2_1]==[x2_2,y2_2] or [x1_1,y1_1]==[x2_1,y2_1] or [x1_2,y1_2]==[x2_2,y2_2]:\n",
    "            print(\"The coordenates of the stars should be different and these stars should move.\")\n",
    "            loop_total=True\n",
    "        else:\n",
    "            loop_total=False\n",
    "    \n",
    "    df_i=pd.DataFrame()\n",
    "    df_i['Points']=[\"First star at the first moment\",\"Second star at the first moment\",\"First star at the second moment\",\"Second star at the second moment\"]\n",
    "    df_i['X_coordenates']=[x1_1,x2_1,x1_2,x2_2]\n",
    "    df_i['Y_coordenates']=[y1_1,y2_1,y1_2,y2_2]     \n",
    "    df_i['Test_Case']=str(i+1) \n",
    "    df_inputs=df_inputs.append(df_i)"
   ]
  },
  {
   "cell_type": "markdown",
   "metadata": {},
   "source": [
    "For not needing write the inputs again all coordenates, the inputs were load in \"csv\"."
   ]
  },
  {
   "cell_type": "code",
   "execution_count": 8,
   "metadata": {},
   "outputs": [],
   "source": [
    "df_inputs=df_inputs.reset_index()"
   ]
  },
  {
   "cell_type": "code",
   "execution_count": 9,
   "metadata": {},
   "outputs": [],
   "source": [
    "df_inputs.to_csv('df_inputs.csv')"
   ]
  },
  {
   "cell_type": "markdown",
   "metadata": {},
   "source": [
    "### Outputs"
   ]
  },
  {
   "cell_type": "code",
   "execution_count": 4,
   "metadata": {},
   "outputs": [],
   "source": [
    "df_inputs=pd.read_csv('df_inputs.csv').iloc[:,2:]"
   ]
  },
  {
   "cell_type": "code",
   "execution_count": 11,
   "metadata": {},
   "outputs": [
    {
     "data": {
      "text/html": [
       "<div>\n",
       "<style scoped>\n",
       "    .dataframe tbody tr th:only-of-type {\n",
       "        vertical-align: middle;\n",
       "    }\n",
       "\n",
       "    .dataframe tbody tr th {\n",
       "        vertical-align: top;\n",
       "    }\n",
       "\n",
       "    .dataframe thead th {\n",
       "        text-align: right;\n",
       "    }\n",
       "</style>\n",
       "<table border=\"1\" class=\"dataframe\">\n",
       "  <thead>\n",
       "    <tr style=\"text-align: right;\">\n",
       "      <th></th>\n",
       "      <th>Points</th>\n",
       "      <th>Test_Case</th>\n",
       "      <th>X_coordenates</th>\n",
       "      <th>Y_coordenates</th>\n",
       "    </tr>\n",
       "  </thead>\n",
       "  <tbody>\n",
       "    <tr>\n",
       "      <th>0</th>\n",
       "      <td>First star at the first moment</td>\n",
       "      <td>1</td>\n",
       "      <td>12.0</td>\n",
       "      <td>2.0</td>\n",
       "    </tr>\n",
       "    <tr>\n",
       "      <th>1</th>\n",
       "      <td>Second star at the first moment</td>\n",
       "      <td>1</td>\n",
       "      <td>5.0</td>\n",
       "      <td>6.0</td>\n",
       "    </tr>\n",
       "    <tr>\n",
       "      <th>2</th>\n",
       "      <td>First star at the second moment</td>\n",
       "      <td>1</td>\n",
       "      <td>10.0</td>\n",
       "      <td>8.0</td>\n",
       "    </tr>\n",
       "    <tr>\n",
       "      <th>3</th>\n",
       "      <td>Second star at the second moment</td>\n",
       "      <td>1</td>\n",
       "      <td>2.0</td>\n",
       "      <td>7.0</td>\n",
       "    </tr>\n",
       "    <tr>\n",
       "      <th>4</th>\n",
       "      <td>First star at the first moment</td>\n",
       "      <td>2</td>\n",
       "      <td>0.5</td>\n",
       "      <td>-0.5</td>\n",
       "    </tr>\n",
       "    <tr>\n",
       "      <th>5</th>\n",
       "      <td>Second star at the first moment</td>\n",
       "      <td>2</td>\n",
       "      <td>-1.0</td>\n",
       "      <td>0.0</td>\n",
       "    </tr>\n",
       "    <tr>\n",
       "      <th>6</th>\n",
       "      <td>First star at the second moment</td>\n",
       "      <td>2</td>\n",
       "      <td>-0.5</td>\n",
       "      <td>-0.5</td>\n",
       "    </tr>\n",
       "    <tr>\n",
       "      <th>7</th>\n",
       "      <td>Second star at the second moment</td>\n",
       "      <td>2</td>\n",
       "      <td>0.0</td>\n",
       "      <td>1.0</td>\n",
       "    </tr>\n",
       "    <tr>\n",
       "      <th>8</th>\n",
       "      <td>First star at the first moment</td>\n",
       "      <td>3</td>\n",
       "      <td>0.5</td>\n",
       "      <td>6.5</td>\n",
       "    </tr>\n",
       "    <tr>\n",
       "      <th>9</th>\n",
       "      <td>Second star at the first moment</td>\n",
       "      <td>3</td>\n",
       "      <td>-10.5</td>\n",
       "      <td>-3.5</td>\n",
       "    </tr>\n",
       "    <tr>\n",
       "      <th>10</th>\n",
       "      <td>First star at the second moment</td>\n",
       "      <td>3</td>\n",
       "      <td>-1.5</td>\n",
       "      <td>6.5</td>\n",
       "    </tr>\n",
       "    <tr>\n",
       "      <th>11</th>\n",
       "      <td>Second star at the second moment</td>\n",
       "      <td>3</td>\n",
       "      <td>-5.5</td>\n",
       "      <td>-8.5</td>\n",
       "    </tr>\n",
       "  </tbody>\n",
       "</table>\n",
       "</div>"
      ],
      "text/plain": [
       "                              Points  Test_Case  X_coordenates  Y_coordenates\n",
       "0     First star at the first moment          1           12.0            2.0\n",
       "1    Second star at the first moment          1            5.0            6.0\n",
       "2    First star at the second moment          1           10.0            8.0\n",
       "3   Second star at the second moment          1            2.0            7.0\n",
       "4     First star at the first moment          2            0.5           -0.5\n",
       "5    Second star at the first moment          2           -1.0            0.0\n",
       "6    First star at the second moment          2           -0.5           -0.5\n",
       "7   Second star at the second moment          2            0.0            1.0\n",
       "8     First star at the first moment          3            0.5            6.5\n",
       "9    Second star at the first moment          3          -10.5           -3.5\n",
       "10   First star at the second moment          3           -1.5            6.5\n",
       "11  Second star at the second moment          3           -5.5           -8.5"
      ]
     },
     "execution_count": 11,
     "metadata": {},
     "output_type": "execute_result"
    }
   ],
   "source": [
    "df_inputs"
   ]
  },
  {
   "cell_type": "markdown",
   "metadata": {},
   "source": [
    "For this part, we had to discover the center (C) where \"dist C-First star at the first moment\"==\"dist C-First star at the second moment\" and \"dist C-Second star at the first moment\"==\"dist C-Second star at the second moment\".\n",
    "\n",
    "For doing this, a line was considered linking the points related to each star. In the middle of this line segment, \n",
    "a transversal line was considered; in every point of this new line, the distances between the two points are the same.\n",
    "With this consideration, the center (C) of both arches was found by the interception of the perpendicular lines."
   ]
  },
  {
   "cell_type": "markdown",
   "metadata": {},
   "source": [
    "The output solution considers all possibilities of having one Center for two circumferences. If both transversal lines \n",
    "were vertical or horizontal, the solution would be impossible.  "
   ]
  },
  {
   "cell_type": "code",
   "execution_count": 12,
   "metadata": {},
   "outputs": [
    {
     "name": "stdout",
     "output_type": "stream",
     "text": [
      "Caso # 1 :  2.0000000000000004   2.0\n",
      "Caso # 2 :  0.0   0.0\n",
      "Caso # 3 :  -0.5   1.5\n"
     ]
    }
   ],
   "source": [
    "for i in range(n):\n",
    "    df_t=df_inputs[df_inputs['Test_Case']==(i+1)]\n",
    "    try:\n",
    "        try:\n",
    "            \n",
    "            # Calculate transversal line of the first star\n",
    "            a1=(df_t.iloc[0,3]-df_t.iloc[2,3])/(df_t.iloc[0,2]-df_t.iloc[2,2])\n",
    "            if a1==0:\n",
    "                #if dy/dx==0, the perpendicular line is vertical and if dy/dx is infinite, this line is horizontal. \n",
    "                x=(df_t.iloc[0,2]+df_t.iloc[2,2])/2\n",
    "                # Transversal line of the second star\n",
    "                try:\n",
    "                    a11=(df_t.iloc[1,3]-df_t.iloc[3,3])/(df_t.iloc[1,2]-df_t.iloc[3,2])\n",
    "                    a2=-1/a11\n",
    "                    x_middle=(df_t.iloc[1,2]+df_t.iloc[3,2])/2\n",
    "                    y_middle=(df_t.iloc[1,3]+df_t.iloc[3,3])/2\n",
    "                    b2=y_middle-a2*x_middle\n",
    "                    y=a2*x+b2\n",
    "                except:\n",
    "                    # There is an intersection between horizontal and vertical lines.\n",
    "                    y=(df_t.iloc[1,3]+df_t.iloc[3,3])/2\n",
    "            # Therefore, the Center of the two circumferences or the intersection of the two perpendicular lines is:\n",
    "            #Output:\n",
    "                print(\"Caso #\",str(i+1),\": \",x,\" \",y)\n",
    "            \n",
    "            else:\n",
    "            \n",
    "                # This situation considers an inclined perpendicular line.\n",
    "                # The product of the angular coefficients of perpendicular lines is equal to -1. So:\n",
    "                a=-1/a1\n",
    "                # The middle of the line segment belongs to the new line. \n",
    "                x_middle=(df_t.iloc[0,2]+df_t.iloc[2,2])/2\n",
    "                y_middle=(df_t.iloc[0,3]+df_t.iloc[2,3])/2\n",
    "                b=y_middle-a*x_middle\n",
    "                # Transversal line of the second star\n",
    "                try:\n",
    "                    #In this point, were written the three possibilities of transversal line related to the second star. \n",
    "                    #Here all the possibilities are viable.\n",
    "                    a11=(df_t.iloc[1,3]-df_t.iloc[3,3])/(df_t.iloc[1,2]-df_t.iloc[3,2])\n",
    "                    #if dy/dx==0, the perpendicular line is vertical and if dy/dx is infinite, this line is horizontal. \n",
    "                    if a11==0:\n",
    "                        x=(df_t.iloc[1,2]+df_t.iloc[3,2])/2\n",
    "                        y=a*x+b\n",
    "                    else:\n",
    "                        a2=-1/a11\n",
    "                        x_middle=(df_t.iloc[1,2]+df_t.iloc[3,2])/2\n",
    "                        y_middle=(df_t.iloc[1,3]+df_t.iloc[3,3])/2\n",
    "                        b2=y_middle-a2*x_middle\n",
    "                        # Therefore, the Center of the two circumferences or the intersection of the two perpendicular lines is:\n",
    "                        x=(b2-b)/(a-a2)\n",
    "                        y=a*x+b\n",
    "                except:\n",
    "                    y=(df_t.iloc[1,3]+df_t.iloc[3,3])/2\n",
    "                    x=(y-b)/a\n",
    "                #Output:\n",
    "                print(\"Caso #\",str(i+1),\": \",x,\" \",y)\n",
    "            \n",
    "        except:\n",
    "            \n",
    "            y=(df_t.iloc[0,3]+df_t.iloc[2,3])/2\n",
    "            a11=(df_t.iloc[1,3]-df_t.iloc[3,3])/(df_t.iloc[1,2]-df_t.iloc[3,2])\n",
    "            if a11==0:\n",
    "                x=(df_t.iloc[1,2]+df_t.iloc[3,2])/2\n",
    "            else:\n",
    "                a2=-1/a11\n",
    "                x_middle=(df_t.iloc[1,2]+df_t.iloc[3,2])/2\n",
    "                y_middle=(df_t.iloc[1,3]+df_t.iloc[3,3])/2\n",
    "                b2=y_middle-a2*x_middle\n",
    "                x=(y-b2)/a2\n",
    "            #Output:\n",
    "            print(\"Caso #\",str(i+1),\": \",x,\" \",y)\n",
    "            \n",
    "    except:\n",
    "        print(\"Caso #\",str(i+1),\": \",\"A solução não é possível!\")\n",
    "    \n"
   ]
  },
  {
   "cell_type": "code",
   "execution_count": null,
   "metadata": {},
   "outputs": [],
   "source": []
  },
  {
   "cell_type": "code",
   "execution_count": null,
   "metadata": {},
   "outputs": [],
   "source": []
  },
  {
   "cell_type": "code",
   "execution_count": null,
   "metadata": {},
   "outputs": [],
   "source": []
  },
  {
   "cell_type": "code",
   "execution_count": null,
   "metadata": {},
   "outputs": [],
   "source": []
  },
  {
   "cell_type": "code",
   "execution_count": null,
   "metadata": {},
   "outputs": [],
   "source": []
  },
  {
   "cell_type": "code",
   "execution_count": null,
   "metadata": {},
   "outputs": [],
   "source": []
  },
  {
   "cell_type": "code",
   "execution_count": null,
   "metadata": {},
   "outputs": [],
   "source": []
  },
  {
   "cell_type": "code",
   "execution_count": null,
   "metadata": {},
   "outputs": [],
   "source": []
  },
  {
   "cell_type": "code",
   "execution_count": null,
   "metadata": {},
   "outputs": [],
   "source": []
  },
  {
   "cell_type": "code",
   "execution_count": null,
   "metadata": {},
   "outputs": [],
   "source": []
  },
  {
   "cell_type": "code",
   "execution_count": null,
   "metadata": {},
   "outputs": [],
   "source": []
  },
  {
   "cell_type": "code",
   "execution_count": null,
   "metadata": {},
   "outputs": [],
   "source": []
  },
  {
   "cell_type": "code",
   "execution_count": null,
   "metadata": {},
   "outputs": [],
   "source": []
  },
  {
   "cell_type": "code",
   "execution_count": null,
   "metadata": {},
   "outputs": [],
   "source": []
  },
  {
   "cell_type": "code",
   "execution_count": null,
   "metadata": {},
   "outputs": [],
   "source": []
  },
  {
   "cell_type": "code",
   "execution_count": null,
   "metadata": {},
   "outputs": [],
   "source": []
  },
  {
   "cell_type": "code",
   "execution_count": null,
   "metadata": {},
   "outputs": [],
   "source": []
  },
  {
   "cell_type": "code",
   "execution_count": null,
   "metadata": {},
   "outputs": [],
   "source": []
  },
  {
   "cell_type": "code",
   "execution_count": null,
   "metadata": {},
   "outputs": [],
   "source": []
  },
  {
   "cell_type": "code",
   "execution_count": null,
   "metadata": {},
   "outputs": [],
   "source": []
  }
 ],
 "metadata": {
  "kernelspec": {
   "display_name": "Python 3",
   "language": "python",
   "name": "python3"
  },
  "language_info": {
   "codemirror_mode": {
    "name": "ipython",
    "version": 3
   },
   "file_extension": ".py",
   "mimetype": "text/x-python",
   "name": "python",
   "nbconvert_exporter": "python",
   "pygments_lexer": "ipython3",
   "version": "3.7.3"
  }
 },
 "nbformat": 4,
 "nbformat_minor": 2
}
